{
 "cells": [
  {
   "cell_type": "markdown",
   "metadata": {
    "colab_type": "text",
    "id": "view-in-github"
   },
   "source": [
    "<a href=\"https://colab.research.google.com/github/skywalker0803r/reinforcement-learning-platform/blob/master/%E5%BC%B7%E5%8C%96%E5%AD%B8%E7%BF%92%E6%A8%99%E6%BA%96%E6%A0%BC%E5%BC%8F.ipynb\" target=\"_parent\"><img src=\"https://colab.research.google.com/assets/colab-badge.svg\" alt=\"Open In Colab\"/></a>"
   ]
  },
  {
   "cell_type": "code",
   "execution_count": 0,
   "metadata": {
    "colab": {},
    "colab_type": "code",
    "id": "88vVvmzn4knV"
   },
   "outputs": [],
   "source": [
    "import torch\n",
    "import torch.optim as optim\n",
    "import torch.nn as nn\n",
    "import torch.nn.functional as F \n",
    "import torch.autograd\n",
    "from torch.autograd import Variable\n",
    "import numpy as np\n",
    "import gym\n",
    "from collections import deque\n",
    "import random\n",
    "import sys\n",
    "import pandas as pd\n",
    "import matplotlib.pyplot as plt"
   ]
  },
  {
   "cell_type": "markdown",
   "metadata": {
    "colab_type": "text",
    "id": "HES-rL0p9jrJ"
   },
   "source": [
    "# 主要分為utils.py,model.py,agent.py"
   ]
  },
  {
   "cell_type": "markdown",
   "metadata": {
    "colab_type": "text",
    "id": "Z5oMS1r547SU"
   },
   "source": [
    "# 首先utils.py(主要放一些工具類別例如buffer,noise)"
   ]
  },
  {
   "cell_type": "code",
   "execution_count": 0,
   "metadata": {
    "colab": {},
    "colab_type": "code",
    "id": "lVgD9GuA47Zg"
   },
   "outputs": [],
   "source": [
    "class OUNoise(object):\n",
    "    def __init__(self, action_space, mu=0.0, theta=0.0, max_sigma=0.0, min_sigma=0.0, decay_period=100000):\n",
    "        self.mu           = mu\n",
    "        self.theta        = theta\n",
    "        self.sigma        = max_sigma\n",
    "        self.max_sigma    = max_sigma\n",
    "        self.min_sigma    = min_sigma\n",
    "        self.decay_period = decay_period\n",
    "        self.action_dim   = action_space.shape[0]\n",
    "        self.low          = action_space.low\n",
    "        self.high         = action_space.high\n",
    "        self.reset()\n",
    "        \n",
    "    def reset(self):\n",
    "        self.state = np.ones(self.action_dim) * self.mu\n",
    "        \n",
    "    def evolve_state(self):\n",
    "        x  = self.state\n",
    "        dx = self.theta * (self.mu - x) + self.sigma * np.random.randn(self.action_dim)\n",
    "        self.state = x + dx\n",
    "        return self.state\n",
    "    \n",
    "    def get_action(self, action, t=0):\n",
    "        ou_state = self.evolve_state()\n",
    "        self.sigma = self.max_sigma - (self.max_sigma - self.min_sigma) * min(1.0, t / self.decay_period)\n",
    "        return np.clip(action + ou_state, self.low, self.high)\n",
    "\n",
    "\n",
    "# https://github.com/openai/gym/blob/master/gym/core.py\n",
    "class NormalizedEnv(gym.ActionWrapper):\n",
    "    \"\"\" Wrap action \"\"\"\n",
    "\n",
    "    def _action(self, action):\n",
    "        act_k = (self.action_space.high - self.action_space.low)/ 2.\n",
    "        act_b = (self.action_space.high + self.action_space.low)/ 2.\n",
    "        return act_k * action + act_b\n",
    "\n",
    "    def _reverse_action(self, action):\n",
    "        act_k_inv = 2./(self.action_space.high - self.action_space.low)\n",
    "        act_b = (self.action_space.high + self.action_space.low)/ 2.\n",
    "        return act_k_inv * (action - act_b)\n",
    "        \n",
    "\n",
    "class ReplayBuffer:\n",
    "    def __init__(self, max_size):\n",
    "        self.max_size = max_size\n",
    "        self.buffer = deque(maxlen=max_size)\n",
    "    \n",
    "    def push(self, state, action, reward, next_state, done):\n",
    "        experience = (state, action, np.array([reward]), next_state, done)\n",
    "        self.buffer.append(experience)\n",
    "\n",
    "    def sample(self, batch_size):\n",
    "        state_batch = []\n",
    "        action_batch = []\n",
    "        reward_batch = []\n",
    "        next_state_batch = []\n",
    "        done_batch = []\n",
    "\n",
    "        batch = random.sample(self.buffer, batch_size)\n",
    "\n",
    "        for experience in batch:\n",
    "            state, action, reward, next_state, done = experience\n",
    "            state_batch.append(state)\n",
    "            action_batch.append(action)\n",
    "            reward_batch.append(reward)\n",
    "            next_state_batch.append(next_state)\n",
    "            done_batch.append(done)\n",
    "        \n",
    "        return state_batch, action_batch, reward_batch, next_state_batch, done_batch\n",
    "\n",
    "    def __len__(self):\n",
    "        return len(self.buffer)"
   ]
  },
  {
   "cell_type": "markdown",
   "metadata": {
    "colab_type": "text",
    "id": "FO55Yvf44W2I"
   },
   "source": [
    "# Model class(主要放一些nn.Module類別,例如MLP,CNN,RNN)"
   ]
  },
  {
   "cell_type": "code",
   "execution_count": 0,
   "metadata": {
    "colab": {},
    "colab_type": "code",
    "id": "qVMHh1_U4SXl"
   },
   "outputs": [],
   "source": [
    "class Critic(nn.Module):\n",
    "    def __init__(self, input_size, hidden_size, output_size):\n",
    "        super(Critic, self).__init__()\n",
    "        self.linear1 = nn.Linear(input_size, hidden_size)\n",
    "        self.linear2 = nn.Linear(hidden_size, hidden_size)\n",
    "        self.linear3 = nn.Linear(hidden_size, output_size)\n",
    "\n",
    "    def forward(self, state, action):\n",
    "        \"\"\"\n",
    "        Params state and actions are torch tensors\n",
    "        \"\"\"\n",
    "        x = torch.cat([state, action], 1)\n",
    "        x = F.relu(self.linear1(x))\n",
    "        x = F.relu(self.linear2(x))\n",
    "        x = self.linear3(x)\n",
    "\n",
    "        return x\n",
    "\n",
    "class Actor(nn.Module):\n",
    "    def __init__(self, input_size, hidden_size, output_size, learning_rate = 3e-4):\n",
    "        super(Actor, self).__init__()\n",
    "        self.linear1 = nn.Linear(input_size, hidden_size)\n",
    "        self.linear2 = nn.Linear(hidden_size, hidden_size)\n",
    "        self.linear3 = nn.Linear(hidden_size, output_size)\n",
    "        \n",
    "    def forward(self, state):\n",
    "        \"\"\"\n",
    "        Param state is a torch tensor\n",
    "        \"\"\"\n",
    "        x = F.relu(self.linear1(state))\n",
    "        x = F.relu(self.linear2(x))\n",
    "        x = torch.tanh(self.linear3(x))\n",
    "\n",
    "        return x"
   ]
  },
  {
   "cell_type": "markdown",
   "metadata": {
    "colab_type": "text",
    "id": "xlxZPmoz4eXr"
   },
   "source": [
    "# Agent class(就是算法本身例如DQN,DDPG)"
   ]
  },
  {
   "cell_type": "markdown",
   "metadata": {
    "colab_type": "text",
    "id": "orpsm0pK8LfK"
   },
   "source": [
    "# 然後必須有{get_action(),update(),train()} 三個方法"
   ]
  },
  {
   "cell_type": "code",
   "execution_count": 0,
   "metadata": {
    "colab": {},
    "colab_type": "code",
    "id": "xKtyowl622Qz"
   },
   "outputs": [],
   "source": [
    "class Agent:\n",
    "    def __init__(self, env, hidden_size=256, actor_learning_rate=1e-4, critic_learning_rate=1e-3, gamma=0.99, tau=1e-2, max_memory_size=50000):\n",
    "        self.env = env\n",
    "        # Params\n",
    "        self.num_states = env.observation_space.shape[0]\n",
    "        self.num_actions = env.action_space.shape[0]\n",
    "        self.gamma = gamma\n",
    "        self.tau = tau\n",
    "\n",
    "        # Networks\n",
    "        self.actor = Actor(self.num_states, hidden_size, self.num_actions)\n",
    "        self.actor_target = Actor(self.num_states, hidden_size, self.num_actions)\n",
    "        self.critic = Critic(self.num_states + self.num_actions, hidden_size, self.num_actions)\n",
    "        self.critic_target = Critic(self.num_states + self.num_actions, hidden_size, self.num_actions)\n",
    "\n",
    "        for target_param, param in zip(self.actor_target.parameters(), self.actor.parameters()):\n",
    "            target_param.data.copy_(param.data)\n",
    "\n",
    "        for target_param, param in zip(self.critic_target.parameters(), self.critic.parameters()):\n",
    "            target_param.data.copy_(param.data)\n",
    "        \n",
    "        # Training\n",
    "        self.replay_buffer = ReplayBuffer(max_memory_size)        \n",
    "        self.critic_loss  = nn.MSELoss()\n",
    "        self.actor_optimizer  = optim.Adam(self.actor.parameters(), lr=actor_learning_rate)\n",
    "        self.critic_optimizer = optim.Adam(self.critic.parameters(), lr=critic_learning_rate)\n",
    "\n",
    "        # Noise\n",
    "        self.noise = OUNoise(self.env.action_space)\n",
    "    \n",
    "    def get_action(self, state):\n",
    "        state = Variable(torch.from_numpy(state).float().unsqueeze(0))\n",
    "        action = self.actor.forward(state)\n",
    "        action = action.detach().numpy()[0,0]\n",
    "        return action\n",
    "    \n",
    "    def update(self, batch_size):\n",
    "        states, actions, rewards, next_states, _ = self.replay_buffer.sample(batch_size)\n",
    "        states = torch.FloatTensor(states)\n",
    "        actions = torch.FloatTensor(actions)\n",
    "        rewards = torch.FloatTensor(rewards)\n",
    "        next_states = torch.FloatTensor(next_states)\n",
    "    \n",
    "        # Critic loss        \n",
    "        Qvals = self.critic.forward(states, actions)\n",
    "        next_actions = self.actor_target.forward(next_states)\n",
    "        next_Q = self.critic_target.forward(next_states, next_actions.detach())\n",
    "        Qprime = rewards + self.gamma * next_Q\n",
    "        critic_loss = self.critic_loss(Qvals, Qprime)\n",
    "\n",
    "        # Actor loss\n",
    "        policy_loss = -self.critic.forward(states, self.actor.forward(states)).mean()\n",
    "        \n",
    "        # update networks\n",
    "        self.actor_optimizer.zero_grad()\n",
    "        policy_loss.backward()\n",
    "        self.actor_optimizer.step()\n",
    "\n",
    "        self.critic_optimizer.zero_grad()\n",
    "        critic_loss.backward() \n",
    "        self.critic_optimizer.step()\n",
    "\n",
    "        # update target networks \n",
    "        for target_param, param in zip(self.actor_target.parameters(), self.actor.parameters()):\n",
    "            target_param.data.copy_(param.data * self.tau + target_param.data * (1.0 - self.tau))\n",
    "       \n",
    "        for target_param, param in zip(self.critic_target.parameters(), self.critic.parameters()):\n",
    "            target_param.data.copy_(param.data * self.tau + target_param.data * (1.0 - self.tau))\n",
    "\n",
    "    def train(self, max_episode, max_step, batch_size):\n",
    "        rewards = []\n",
    "\n",
    "        for episode in range(max_episode):\n",
    "            state = self.env.reset()\n",
    "            self.noise.reset()\n",
    "            episode_reward = 0\n",
    "            \n",
    "            for step in range(max_step):\n",
    "                action = self.get_action(state)\n",
    "                action = self.noise.get_action(action, step)\n",
    "                new_state, reward, done, _ = self.env.step(action) \n",
    "                self.replay_buffer.push(state, action, reward, new_state, done)\n",
    "                \n",
    "                if len(self.replay_buffer) > batch_size:\n",
    "                    self.update(batch_size)        \n",
    "                \n",
    "                state = new_state\n",
    "                episode_reward += reward\n",
    "\n",
    "                if done:\n",
    "                    print(\"episode \" + str(episode) + \": \" + str(episode_reward))\n",
    "                    break\n",
    "\n",
    "            rewards.append(episode_reward)\n",
    "        \n",
    "        return rewards"
   ]
  },
  {
   "cell_type": "markdown",
   "metadata": {
    "colab_type": "text",
    "id": "oSJtnQ7A5NQg"
   },
   "source": [
    "# main"
   ]
  },
  {
   "cell_type": "code",
   "execution_count": 5,
   "metadata": {
    "colab": {
     "base_uri": "https://localhost:8080/",
     "height": 1000
    },
    "colab_type": "code",
    "id": "yGs7Daxz5OQd",
    "outputId": "1ec14321-c763-432e-abdc-38df83d494c1"
   },
   "outputs": [
    {
     "name": "stderr",
     "output_type": "stream",
     "text": [
      "/usr/local/lib/python3.6/dist-packages/gym/logger.py:30: UserWarning: \u001b[33mWARN: Box bound precision lowered by casting to float32\u001b[0m\n",
      "  warnings.warn(colorize('%s: %s'%('WARN', msg % args), 'yellow'))\n"
     ]
    },
    {
     "name": "stdout",
     "output_type": "stream",
     "text": [
      "episode 0: -1040.055094359821\n",
      "episode 1: -1213.9871420643597\n",
      "episode 2: -1537.217810140741\n",
      "episode 3: -1390.909957828813\n",
      "episode 4: -1202.221222399344\n",
      "episode 5: -1364.5554141081361\n",
      "episode 6: -1151.5059932120557\n",
      "episode 7: -868.3956746605895\n",
      "episode 8: -1019.2546684229961\n",
      "episode 9: -1159.6848863574214\n",
      "episode 10: -1201.928041386362\n",
      "episode 11: -1046.7766278769084\n",
      "episode 12: -1309.4198411614693\n",
      "episode 13: -1153.1676502709624\n",
      "episode 14: -1112.0148449521912\n",
      "episode 15: -777.2710642927636\n",
      "episode 16: -875.7754311016172\n",
      "episode 17: -756.8208556851328\n",
      "episode 18: -854.1454761758239\n",
      "episode 19: -869.6577980979173\n",
      "episode 20: -710.5675324535719\n",
      "episode 21: -637.9036052232434\n",
      "episode 22: -621.9666490814064\n",
      "episode 23: -828.324980517054\n",
      "episode 24: -902.4792236799276\n",
      "episode 25: -717.2839613462927\n",
      "episode 26: -648.6053393724352\n",
      "episode 27: -895.163310659387\n",
      "episode 28: -629.0614860218775\n",
      "episode 29: -745.4808664400794\n",
      "episode 30: -529.3624818845852\n",
      "episode 31: -623.0789362493427\n",
      "episode 32: -624.8053687634914\n",
      "episode 33: -622.7049344457319\n",
      "episode 34: -510.4271698788926\n",
      "episode 35: -507.09678918362704\n",
      "episode 36: -621.1598229954747\n",
      "episode 37: -505.9493791691942\n",
      "episode 38: -506.63324298891143\n",
      "episode 39: -542.9761412940983\n",
      "episode 40: -506.4949333970819\n",
      "episode 41: -505.8451345089833\n",
      "episode 42: -501.81055981661353\n",
      "episode 43: -506.40234203175675\n",
      "episode 44: -635.4811166193722\n",
      "episode 45: -558.2432017960424\n",
      "episode 46: -861.8177211385772\n",
      "episode 47: -505.84656364054456\n",
      "episode 48: -620.3586113252397\n",
      "episode 49: -716.8463747952065\n",
      "episode 50: -850.1390800009028\n",
      "episode 51: -622.9009957424573\n",
      "episode 52: -730.4859035048665\n",
      "episode 53: -506.0577196078714\n",
      "episode 54: -506.5739282033455\n",
      "episode 55: -624.7212382190522\n",
      "episode 56: -624.1214150142326\n",
      "episode 57: -510.9957841846782\n",
      "episode 58: -506.8880803734253\n",
      "episode 59: -746.9891648562068\n",
      "episode 60: -507.37834325385\n",
      "episode 61: -505.31980310300605\n",
      "episode 62: -613.7560426917903\n",
      "episode 63: -613.1548784148823\n",
      "episode 64: -505.6324699810215\n",
      "episode 65: -505.8004313496708\n",
      "episode 66: -745.8932608957252\n",
      "episode 67: -507.99779840067646\n",
      "episode 68: -452.25949330814836\n",
      "episode 69: -505.4108405814305\n",
      "episode 70: -850.5397733886732\n",
      "episode 71: -504.3620785264992\n",
      "episode 72: -623.5005335951156\n",
      "episode 73: -502.3946979002968\n",
      "episode 74: -620.1129847226465\n",
      "episode 75: -703.0690367971656\n",
      "episode 76: -501.8130382523817\n",
      "episode 77: -502.50051456604166\n",
      "episode 78: -503.4011829390831\n",
      "episode 79: -505.05300696746343\n",
      "episode 80: -499.3364283660657\n",
      "episode 81: -505.9977905629061\n",
      "episode 82: -505.58788550279746\n",
      "episode 83: -502.04186226369103\n",
      "episode 84: -503.6367077758215\n",
      "episode 85: -498.59522505834855\n",
      "episode 86: -754.9577633997039\n",
      "episode 87: -768.8562857765725\n",
      "episode 88: -469.2367578108387\n",
      "episode 89: -796.7255978776271\n",
      "episode 90: -505.41813974027275\n",
      "episode 91: -504.8468834496685\n",
      "episode 92: -503.7422968678058\n",
      "episode 93: -505.39591380373633\n",
      "episode 94: -726.1298973713792\n",
      "episode 95: -620.0138250123385\n",
      "episode 96: -612.6789996824032\n",
      "episode 97: -495.27731487059276\n",
      "episode 98: -500.15112607470917\n",
      "episode 99: -492.9236947587243\n"
     ]
    }
   ],
   "source": [
    "env = gym.make(\"Pendulum-v0\")\n",
    "agent = Agent(env)\n",
    "rewards = agent.train(max_episode=100, max_step=500, batch_size=128)"
   ]
  },
  {
   "cell_type": "code",
   "execution_count": 12,
   "metadata": {
    "colab": {
     "base_uri": "https://localhost:8080/",
     "height": 269
    },
    "colab_type": "code",
    "id": "HjC5rKGV5Wim",
    "outputId": "8664a5fd-26e2-46ca-e711-adbb56bbef91"
   },
   "outputs": [
    {
     "data": {
      "image/png": "[encoded data removed]",
      "text/plain": [
       "<Figure size 432x288 with 1 Axes>"
      ]
     },
     "metadata": {
      "needs_background": "light",
      "tags": []
     },
     "output_type": "display_data"
    }
   ],
   "source": [
    "plt.plot(rewards)\n",
    "plt.plot(pd.Series(rewards).rolling(5,min_periods=1).mean())\n",
    "plt.show()"
   ]
  },
  {
   "cell_type": "code",
   "execution_count": 0,
   "metadata": {
    "colab": {},
    "colab_type": "code",
    "id": "MjQTaFSI99KH"
   },
   "outputs": [],
   "source": []
  }
 ],
 "metadata": {
  "colab": {
   "authorship_tag": "ABX9TyPCb+aGyub8o1gUsKR0IFdq",
   "include_colab_link": true,
   "name": "強化學習標準格式.ipynb",
   "provenance": []
  },
  "kernelspec": {
   "display_name": "Python 3",
   "language": "python",
   "name": "python3"
  }
 },
 "nbformat": 4,
 "nbformat_minor": 1
}
