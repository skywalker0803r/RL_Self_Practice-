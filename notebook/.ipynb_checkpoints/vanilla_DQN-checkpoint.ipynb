{
 "cells": [
  {
   "cell_type": "markdown",
   "metadata": {
    "colab_type": "text",
    "id": "view-in-github"
   },
   "source": [
    "<a href=\"https://colab.research.google.com/github/skywalker0803r/reinforcement-learning-platform/blob/master/%E5%BC%B7%E5%8C%96%E5%AD%B8%E7%BF%92%E6%A8%99%E6%BA%96%E6%A0%BC%E5%BC%8F.ipynb\" target=\"_parent\"><img src=\"https://colab.research.google.com/assets/colab-badge.svg\" alt=\"Open In Colab\"/></a>"
   ]
  },
  {
   "cell_type": "code",
   "execution_count": 1,
   "metadata": {
    "colab": {},
    "colab_type": "code",
    "id": "88vVvmzn4knV"
   },
   "outputs": [],
   "source": [
    "import torch\n",
    "import torch.nn as nn\n",
    "import numpy as np\n",
    "import random\n",
    "from collections import deque\n",
    "from copy import deepcopy\n",
    "import gym\n",
    "import matplotlib.pyplot as plt\n",
    "import pandas as pd"
   ]
  },
  {
   "cell_type": "markdown",
   "metadata": {
    "colab_type": "text",
    "id": "Z5oMS1r547SU"
   },
   "source": [
    "# utils"
   ]
  },
  {
   "cell_type": "code",
   "execution_count": 2,
   "metadata": {
    "colab": {},
    "colab_type": "code",
    "id": "lVgD9GuA47Zg"
   },
   "outputs": [],
   "source": [
    "class BasicBuffer:\n",
    "    def __init__(self, max_size):\n",
    "        self.max_size = max_size\n",
    "        self.buffer = deque(maxlen=int(max_size))\n",
    "\n",
    "    def push(self, state, action, reward, next_state, done):\n",
    "        experience = (state, action, np.array([reward]), next_state, done)\n",
    "        self.buffer.append(experience)\n",
    "\n",
    "    def sample(self, batch_size):\n",
    "        state_batch = []\n",
    "        action_batch = []\n",
    "        reward_batch = []\n",
    "        next_state_batch = []\n",
    "        done_batch = []\n",
    "\n",
    "        batch = random.sample(self.buffer, batch_size)\n",
    "\n",
    "        for experience in batch:\n",
    "            state, action, reward, next_state, done = experience\n",
    "            state_batch.append(state)\n",
    "            action_batch.append(action)\n",
    "            reward_batch.append(reward)\n",
    "            next_state_batch.append(next_state)\n",
    "            done_batch.append(done)\n",
    "\n",
    "        return (state_batch, action_batch, reward_batch, next_state_batch, done_batch)\n",
    "    \n",
    "    def __len__(self):\n",
    "        return len(self.buffer)"
   ]
  },
  {
   "cell_type": "markdown",
   "metadata": {
    "colab_type": "text",
    "id": "FO55Yvf44W2I"
   },
   "source": [
    "# Model"
   ]
  },
  {
   "cell_type": "code",
   "execution_count": 3,
   "metadata": {
    "colab": {},
    "colab_type": "code",
    "id": "qVMHh1_U4SXl"
   },
   "outputs": [],
   "source": [
    "class DQN(nn.Module):\n",
    "    def __init__(self, input_dim, output_dim):\n",
    "        super(DQN, self).__init__()\n",
    "        self.input_dim = input_dim[0]\n",
    "        self.output_dim = output_dim\n",
    "        self.fc = nn.Sequential(\n",
    "            nn.Linear(self.input_dim,128),\n",
    "            nn.Tanh(),\n",
    "            nn.Linear(128,128),\n",
    "            nn.Tanh(),\n",
    "            nn.Linear(128,self.output_dim))\n",
    "\n",
    "    def forward(self, state):\n",
    "        qvals = self.fc(state)\n",
    "        return qvals"
   ]
  },
  {
   "cell_type": "markdown",
   "metadata": {
    "colab_type": "text",
    "id": "xlxZPmoz4eXr"
   },
   "source": [
    "# Agent"
   ]
  },
  {
   "cell_type": "code",
   "execution_count": 4,
   "metadata": {
    "colab": {},
    "colab_type": "code",
    "id": "xKtyowl622Qz"
   },
   "outputs": [],
   "source": [
    "class DQNAgent:\n",
    "    def __init__(self, env, \n",
    "                 learning_rate = 0.01,\n",
    "                 eps = 0.05,\n",
    "                 gamma = 0.95, \n",
    "                 buffer_size = 10000):\n",
    "        \n",
    "        self.env = env\n",
    "        self.device = torch.device(\"cuda\" if torch.cuda.is_available() else \"cpu\")\n",
    "        \n",
    "        self.learning_rate = learning_rate\n",
    "        self.eps = eps\n",
    "        self.gamma = gamma\n",
    "        \n",
    "        self.model = DQN(env.observation_space.shape, env.action_space.n).to(self.device)\n",
    "        self.model.apply(self._weights_init)\n",
    "        \n",
    "        self.replay_buffer = BasicBuffer(max_size=buffer_size)\n",
    "        self.optimizer = torch.optim.Adam(self.model.parameters(),lr=self.learning_rate)\n",
    "        \n",
    "        self.best_reward = -np.inf\n",
    "        self.best_param = None\n",
    "    \n",
    "    @staticmethod\n",
    "    def _weights_init(m):\n",
    "        if isinstance(m, nn.Linear):\n",
    "            nn.init.xavier_uniform_(m.weight)\n",
    "            nn.init.constant_(m.bias,0.1)\n",
    "        \n",
    "    def get_action(self,state,eps = 0.05):\n",
    "        if(np.random.randn() < eps):\n",
    "            return self.env.action_space.sample()\n",
    "        else:\n",
    "            state = torch.FloatTensor(state).float().unsqueeze(0).to(self.device)\n",
    "            qvals = self.model.forward(state)\n",
    "            action = np.argmax(qvals.cpu().detach().numpy())\n",
    "            return action\n",
    "\n",
    "    def compute_loss(self, batch):\n",
    "        \n",
    "        # fetch mini_batch\n",
    "        states, actions, rewards, next_states, dones = batch\n",
    "        states = torch.FloatTensor(states).to(self.device)\n",
    "        actions = torch.LongTensor(actions).to(self.device).view(-1,1)\n",
    "        rewards = torch.FloatTensor(rewards).to(self.device).view(-1)\n",
    "        next_states = torch.FloatTensor(next_states).to(self.device)\n",
    "        dones = torch.FloatTensor(dones).to(self.device).view(-1)\n",
    "        \n",
    "        # calculate loss = r + gamma*max_next_Q*(1-dones) - curr_Q\n",
    "        curr_Q = self.model.forward(states).gather(1,actions).view(-1)\n",
    "        max_next_Q = torch.max(self.model.forward(next_states),dim=1)[0]\n",
    "        expected_Q = rewards+self.gamma*max_next_Q*(1-dones)\n",
    "        loss = ((expected_Q-curr_Q)**2).mean(axis=0)\n",
    "        return loss\n",
    "\n",
    "    def update(self, batch_size):\n",
    "        if len(self.replay_buffer) > batch_size:\n",
    "            batch = self.replay_buffer.sample(batch_size)\n",
    "            loss = self.compute_loss(batch)\n",
    "            self.optimizer.zero_grad()\n",
    "            loss.backward()\n",
    "            self.optimizer.step()\n",
    "    \n",
    "    def eval_model(self,episode_reward):\n",
    "        if episode_reward >= self.best_reward:\n",
    "            self.best_reward = episode_reward\n",
    "            self.best_param = deepcopy(self.model.state_dict()) #deepcopy model's param\n",
    "        \n",
    "    def train(self,max_episodes=100,batch_size=256):\n",
    "        episode_rewards = []\n",
    "        for episode in range(max_episodes):\n",
    "            \n",
    "            # initialize all\n",
    "            state = self.env.reset()\n",
    "            episode_reward = 0\n",
    "            done = False\n",
    "            \n",
    "            # game loop\n",
    "            while not done:\n",
    "                action = self.get_action(state)\n",
    "                next_state, reward, done, _ = self.env.step(action)\n",
    "                self.replay_buffer.push(state, action, reward, next_state, done)\n",
    "                episode_reward += reward\n",
    "                self.eval_model(episode_reward)\n",
    "                agent.update(batch_size)\n",
    "                state = next_state\n",
    "            \n",
    "            # game over\n",
    "            episode_rewards.append(episode_reward)\n",
    "            print(\"Episode {} reward {}\".format(episode,episode_reward))\n",
    "        \n",
    "        # end all\n",
    "        self.env.close()\n",
    "        self.model.load_state_dict(self.best_param) #recover best param\n",
    "        return episode_rewards\n",
    "    \n",
    "    def play(self,max_episodes=10):\n",
    "        for episode in range(max_episodes):\n",
    "            \n",
    "            # initialize all\n",
    "            state = self.env.reset()\n",
    "            episode_reward = 0\n",
    "            done = False\n",
    "            \n",
    "            # game loop\n",
    "            while not done:\n",
    "                env.render()\n",
    "                action = self.get_action(state,eps=0)\n",
    "                next_state, reward, done, _ = self.env.step(action)\n",
    "                episode_reward += reward\n",
    "                state = next_state\n",
    "            \n",
    "            # game over\n",
    "            print(\"Episode {} reward {}\".format(episode,episode_reward))\n",
    "        \n",
    "        #end all\n",
    "        self.env.close()"
   ]
  },
  {
   "cell_type": "markdown",
   "metadata": {
    "colab_type": "text",
    "id": "oSJtnQ7A5NQg"
   },
   "source": [
    "# main"
   ]
  },
  {
   "cell_type": "code",
   "execution_count": 5,
   "metadata": {
    "colab": {
     "base_uri": "https://localhost:8080/",
     "height": 1000
    },
    "colab_type": "code",
    "id": "yGs7Daxz5OQd",
    "outputId": "1ec14321-c763-432e-abdc-38df83d494c1"
   },
   "outputs": [
    {
     "name": "stdout",
     "output_type": "stream",
     "text": [
      "Episode 0 reward 9.0\n",
      "Episode 1 reward 10.0\n",
      "Episode 2 reward 11.0\n",
      "Episode 3 reward 22.0\n",
      "Episode 4 reward 14.0\n",
      "Episode 5 reward 10.0\n",
      "Episode 6 reward 8.0\n",
      "Episode 7 reward 12.0\n",
      "Episode 8 reward 13.0\n",
      "Episode 9 reward 11.0\n",
      "Episode 10 reward 23.0\n",
      "Episode 11 reward 12.0\n",
      "Episode 12 reward 15.0\n",
      "Episode 13 reward 13.0\n",
      "Episode 14 reward 17.0\n",
      "Episode 15 reward 8.0\n",
      "Episode 16 reward 12.0\n",
      "Episode 17 reward 21.0\n",
      "Episode 18 reward 18.0\n",
      "Episode 19 reward 25.0\n",
      "Episode 20 reward 11.0\n",
      "Episode 21 reward 53.0\n",
      "Episode 22 reward 41.0\n",
      "Episode 23 reward 25.0\n",
      "Episode 24 reward 31.0\n",
      "Episode 25 reward 58.0\n",
      "Episode 26 reward 44.0\n",
      "Episode 27 reward 127.0\n",
      "Episode 28 reward 114.0\n",
      "Episode 29 reward 53.0\n",
      "Episode 30 reward 163.0\n",
      "Episode 31 reward 16.0\n",
      "Episode 32 reward 133.0\n",
      "Episode 33 reward 89.0\n",
      "Episode 34 reward 45.0\n",
      "Episode 35 reward 109.0\n",
      "Episode 36 reward 120.0\n",
      "Episode 37 reward 99.0\n",
      "Episode 38 reward 33.0\n",
      "Episode 39 reward 88.0\n",
      "Episode 40 reward 168.0\n",
      "Episode 41 reward 83.0\n",
      "Episode 42 reward 20.0\n",
      "Episode 43 reward 50.0\n",
      "Episode 44 reward 42.0\n",
      "Episode 45 reward 35.0\n",
      "Episode 46 reward 28.0\n",
      "Episode 47 reward 146.0\n",
      "Episode 48 reward 22.0\n",
      "Episode 49 reward 102.0\n",
      "Episode 50 reward 28.0\n",
      "Episode 51 reward 80.0\n",
      "Episode 52 reward 132.0\n",
      "Episode 53 reward 36.0\n",
      "Episode 54 reward 152.0\n",
      "Episode 55 reward 114.0\n",
      "Episode 56 reward 87.0\n",
      "Episode 57 reward 49.0\n",
      "Episode 58 reward 126.0\n",
      "Episode 59 reward 24.0\n",
      "Episode 60 reward 26.0\n",
      "Episode 61 reward 63.0\n",
      "Episode 62 reward 111.0\n",
      "Episode 63 reward 45.0\n",
      "Episode 64 reward 87.0\n",
      "Episode 65 reward 30.0\n",
      "Episode 66 reward 15.0\n",
      "Episode 67 reward 135.0\n",
      "Episode 68 reward 53.0\n",
      "Episode 69 reward 35.0\n",
      "Episode 70 reward 108.0\n",
      "Episode 71 reward 51.0\n",
      "Episode 72 reward 20.0\n",
      "Episode 73 reward 55.0\n",
      "Episode 74 reward 139.0\n",
      "Episode 75 reward 123.0\n",
      "Episode 76 reward 14.0\n",
      "Episode 77 reward 143.0\n",
      "Episode 78 reward 200.0\n",
      "Episode 79 reward 75.0\n",
      "Episode 80 reward 161.0\n",
      "Episode 81 reward 142.0\n",
      "Episode 82 reward 65.0\n",
      "Episode 83 reward 200.0\n",
      "Episode 84 reward 157.0\n",
      "Episode 85 reward 104.0\n",
      "Episode 86 reward 94.0\n",
      "Episode 87 reward 153.0\n",
      "Episode 88 reward 33.0\n",
      "Episode 89 reward 51.0\n",
      "Episode 90 reward 62.0\n",
      "Episode 91 reward 77.0\n",
      "Episode 92 reward 168.0\n",
      "Episode 93 reward 69.0\n",
      "Episode 94 reward 99.0\n",
      "Episode 95 reward 30.0\n",
      "Episode 96 reward 71.0\n",
      "Episode 97 reward 31.0\n",
      "Episode 98 reward 82.0\n",
      "Episode 99 reward 82.0\n"
     ]
    }
   ],
   "source": [
    "env = gym.make(\"CartPole-v0\")\n",
    "agent = DQNAgent(env)\n",
    "rewards = agent.train(100)"
   ]
  },
  {
   "cell_type": "code",
   "execution_count": 6,
   "metadata": {
    "colab": {
     "base_uri": "https://localhost:8080/",
     "height": 269
    },
    "colab_type": "code",
    "id": "HjC5rKGV5Wim",
    "outputId": "8664a5fd-26e2-46ca-e711-adbb56bbef91"
   },
   "outputs": [
    {
     "data": {
      "image/png": "[encoded data removed]",
      "text/plain": [
       "<Figure size 432x288 with 1 Axes>"
      ]
     },
     "metadata": {
      "needs_background": "light"
     },
     "output_type": "display_data"
    }
   ],
   "source": [
    "plt.plot(rewards)\n",
    "plt.plot(pd.Series(rewards).rolling(5,min_periods=1).mean())\n",
    "plt.show()"
   ]
  },
  {
   "cell_type": "code",
   "execution_count": 7,
   "metadata": {
    "colab": {},
    "colab_type": "code",
    "id": "MjQTaFSI99KH"
   },
   "outputs": [
    {
     "name": "stdout",
     "output_type": "stream",
     "text": [
      "Episode 0 reward 44.0\n",
      "Episode 1 reward 131.0\n",
      "Episode 2 reward 200.0\n",
      "Episode 3 reward 52.0\n",
      "Episode 4 reward 124.0\n",
      "Episode 5 reward 190.0\n",
      "Episode 6 reward 128.0\n",
      "Episode 7 reward 97.0\n",
      "Episode 8 reward 18.0\n",
      "Episode 9 reward 143.0\n"
     ]
    }
   ],
   "source": [
    "agent.play(10)"
   ]
  },
  {
   "cell_type": "code",
   "execution_count": null,
   "metadata": {},
   "outputs": [],
   "source": []
  }
 ],
 "metadata": {
  "colab": {
   "authorship_tag": "ABX9TyPCb+aGyub8o1gUsKR0IFdq",
   "include_colab_link": true,
   "name": "強化學習標準格式.ipynb",
   "provenance": []
  },
  "kernelspec": {
   "display_name": "Python 3",
   "language": "python",
   "name": "python3"
  },
  "language_info": {
   "codemirror_mode": {
    "name": "ipython",
    "version": 3
   },
   "file_extension": ".py",
   "mimetype": "text/x-python",
   "name": "python",
   "nbconvert_exporter": "python",
   "pygments_lexer": "ipython3",
   "version": "3.7.4"
  }
 },
 "nbformat": 4,
 "nbformat_minor": 1
}
