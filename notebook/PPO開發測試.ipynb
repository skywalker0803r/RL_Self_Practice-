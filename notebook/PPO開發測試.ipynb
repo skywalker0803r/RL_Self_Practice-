{
 "cells": [
  {
   "cell_type": "code",
   "execution_count": 1,
   "metadata": {},
   "outputs": [
    {
     "data": {
      "text/plain": [
       "<torch._C.Generator at 0x2f0e0c419b0>"
      ]
     },
     "execution_count": 1,
     "metadata": {},
     "output_type": "execute_result"
    }
   ],
   "source": [
    "import torch\n",
    "from torch import nn\n",
    "from torch.nn import functional as F\n",
    "from torch.distributions import Categorical\n",
    "from torch import optim\n",
    "from torch import nn\n",
    "from collections import deque\n",
    "import numpy as np\n",
    "import random\n",
    "import warnings \n",
    "warnings.simplefilter('ignore')\n",
    "seed = 6\n",
    "torch.manual_seed(seed)"
   ]
  },
  {
   "cell_type": "markdown",
   "metadata": {},
   "source": [
    "# model"
   ]
  },
  {
   "cell_type": "code",
   "execution_count": 2,
   "metadata": {},
   "outputs": [],
   "source": [
    "class critic(nn.Module):\n",
    "    def __init__(self, input_dim):\n",
    "        # state -> value(type:scalar)\n",
    "        super(critic, self).__init__()\n",
    "        self.fc1 = nn.Linear(input_dim,128)\n",
    "        self.fc2 = nn.Linear(128,128)\n",
    "        self.fc3 = nn.Linear(128,1)\n",
    "\n",
    "    def forward(self,state):\n",
    "        state = F.relu(self.fc1(state))\n",
    "        state = F.relu(self.fc2(state))\n",
    "        value = self.fc3(state)\n",
    "        return value\n",
    "\n",
    "class actor(nn.Module):\n",
    "    def __init__(self, input_dim, output_dim):\n",
    "        # state -> action_probs(type:vector,sum==1)\n",
    "        super(actor, self).__init__()\n",
    "        self.fc1 = nn.Linear(input_dim,128)\n",
    "        self.fc2 = nn.Linear(128,128)\n",
    "        self.fc3 = nn.Linear(128,output_dim)\n",
    "    \n",
    "    def forward(self, state):\n",
    "        logits = F.relu(self.fc1(state))\n",
    "        logits = F.relu(self.fc2(logits))\n",
    "        logits = self.fc3(logits)\n",
    "        return F.softmax(logits,dim=1)"
   ]
  },
  {
   "cell_type": "markdown",
   "metadata": {},
   "source": [
    "# utils"
   ]
  },
  {
   "cell_type": "code",
   "execution_count": 3,
   "metadata": {},
   "outputs": [],
   "source": [
    "class BasicBuffer:\n",
    "    def __init__(self, max_size):\n",
    "        self.max_size = int(max_size)\n",
    "        self.buffer = deque(maxlen=int(max_size))\n",
    "\n",
    "    def push(self, state, action, reward, next_state, done):\n",
    "        experience = (state, action, np.array([reward]), next_state, done)\n",
    "        self.buffer.append(experience)\n",
    "\n",
    "    def sample(self, batch_size):\n",
    "        state_batch = []\n",
    "        action_batch = []\n",
    "        reward_batch = []\n",
    "        next_state_batch = []\n",
    "        done_batch = []\n",
    "\n",
    "        batch = random.sample(self.buffer, batch_size)\n",
    "\n",
    "        for experience in batch:\n",
    "            state, action, reward, next_state, done = experience\n",
    "            state_batch.append(state)\n",
    "            action_batch.append(action)\n",
    "            reward_batch.append(reward)\n",
    "            next_state_batch.append(next_state)\n",
    "            done_batch.append(done)\n",
    "\n",
    "        return (state_batch, action_batch, reward_batch, next_state_batch, done_batch)\n",
    "\n",
    "    def __len__(self):\n",
    "        return len(self.buffer)"
   ]
  },
  {
   "cell_type": "markdown",
   "metadata": {},
   "source": [
    "# agent"
   ]
  },
  {
   "cell_type": "code",
   "execution_count": 4,
   "metadata": {},
   "outputs": [],
   "source": [
    "class PPOAgent:\n",
    "    def __init__(self,env,gamma=0.999,lr=1e-3,clip=0.2,v_coef=1,e_coef=0,eps=1e-8,K_epoch=4,buffer_maxsize=10000):\n",
    "        self.device = \"cuda\"\n",
    "        \n",
    "        # env\n",
    "        self.env = env\n",
    "        self.obs_dim = env.observation_space.shape[0]\n",
    "        self.action_dim = env.action_space.n\n",
    "        \n",
    "        # Hyperparamters\n",
    "        self.gamma = gamma\n",
    "        self.lr = lr\n",
    "        self.clip = clip\n",
    "        self.v_coef = v_coef\n",
    "        self.e_coef = e_coef\n",
    "        self.eps = eps\n",
    "        self.K_epoch = K_epoch\n",
    "        \n",
    "        # critic,init\n",
    "        self.critic = critic(self.obs_dim).to(self.device)\n",
    "        self.critic.apply(self._weights_init)\n",
    "        \n",
    "        # actor_new,init\n",
    "        self.actor_new = actor(self.obs_dim,self.action_dim).to(self.device)\n",
    "        self.actor_new.apply(self._weights_init)\n",
    "        \n",
    "        # actor_old,sync\n",
    "        self.actor_old = actor(self.obs_dim,self.action_dim).to(self.device)\n",
    "        self.sync()\n",
    "        \n",
    "        # optimizer\n",
    "        self.actor_optimizer = optim.Adam(self.actor_new.parameters(),lr=lr)\n",
    "        self.critic_optimizer = optim.Adam(self.critic.parameters(),lr=lr)\n",
    "        \n",
    "        # replay buffer\n",
    "        self.replay_buffer = BasicBuffer(max_size=buffer_maxsize)\n",
    "        \n",
    "        # recorder\n",
    "        self.recorder = {'a_loss':[],\n",
    "                         'v_loss':[],\n",
    "                         'e_loss':[],\n",
    "                         'ratio':[]}\n",
    "            \n",
    "    @staticmethod\n",
    "    def _weights_init(m):\n",
    "        if isinstance(m, nn.Linear):\n",
    "            nn.init.xavier_uniform_(m.weight)\n",
    "            nn.init.constant_(m.bias, 0.1)\n",
    "    \n",
    "    def sync(self):\n",
    "        for old_param, new_param in zip(self.actor_old.parameters(),self.actor_new.parameters()):\n",
    "            old_param.data.copy_(new_param.data)\n",
    "\n",
    "    def get_action(self, state):\n",
    "        state = torch.FloatTensor(state).to(self.device)\n",
    "        probs = self.actor_new.forward(state) # softmax_probs\n",
    "        dist = Categorical(probs) # Categorical distribution\n",
    "        act = dist.sample() # smaple action from this Categorical distribution\n",
    "        return act.detach().item()\n",
    "\n",
    "    def get_value(state):\n",
    "        state = torch.FloatTensor(state).to(self.device)\n",
    "        value = self.critic(state)\n",
    "        return value.item()\n",
    "\n",
    "    def update(self,batch_size=64):\n",
    "        for k in range(self.K_epoch):\n",
    "            \n",
    "            # sample mini_batch_data from replay_buffer\n",
    "            s,a,r,s_,d = self.replay_buffer.sample(batch_size)\n",
    "            s = torch.FloatTensor(s).to(self.device)\n",
    "            a = torch.LongTensor(a).to(self.device).unsqueeze(dim=1)\n",
    "            r = torch.FloatTensor(r).to(self.device)\n",
    "            s_ = torch.FloatTensor(s_).to(self.device)\n",
    "            d = torch.FloatTensor(d).to(self.device).unsqueeze(dim=1)\n",
    "            \n",
    "            # calculate critic loss\n",
    "            v_target = r + self.gamma*self.critic(s_)*(1-d)\n",
    "            v_current = self.critic(s)\n",
    "            adv =  v_target - v_current\n",
    "            v_loss = (adv**2).mean() * self.v_coef\n",
    "            self.recorder['v_loss'].append(v_loss.item())\n",
    "            \n",
    "            # calculate ratio(new/old)\n",
    "            new_p = torch.gather(self.actor_new(s),1,a)\n",
    "            old_p = torch.gather(self.actor_old(s),1,a)\n",
    "            ratio = new_p / (old_p + self.eps)\n",
    "            self.recorder['ratio'].append(ratio.detach().cpu().numpy())\n",
    "            \n",
    "            # calculate entropy_loss\n",
    "            distribution = Categorical(self.actor_new(s))\n",
    "            entropy_loss = -distribution.entropy().mean() * self.e_coef\n",
    "            self.recorder['e_loss'].append(entropy_loss.item())\n",
    "            \n",
    "            # calculate surr1,surr2\n",
    "            adv = (adv - adv.mean()) / (adv.std() + self.eps)\n",
    "            surr1 = ratio * adv.detach()\n",
    "            surr2 = torch.clamp(ratio,1-self.clip,1+self.clip) * adv.detach()\n",
    "            \n",
    "            # combine surr_loss and entropy_loss as a_loss\n",
    "            a_loss = -torch.min(surr1,surr2).mean() + entropy_loss\n",
    "            self.recorder['a_loss'].append(a_loss.item())\n",
    "            \n",
    "            # update critic\n",
    "            self.critic_optimizer.zero_grad()\n",
    "            v_loss.backward()\n",
    "            self.critic_optimizer.step()\n",
    "            \n",
    "            # update actor\n",
    "            self.actor_optimizer.zero_grad()\n",
    "            a_loss.backward()\n",
    "            self.actor_optimizer.step()\n",
    "        \n",
    "        # sync actor_old and actor_new\n",
    "        self.sync()\n",
    "            \n",
    "    def train(self, max_episodes=100,max_steps=1000, batch_size=64):\n",
    "        episode_rewards = []\n",
    "        for episode in range(max_episodes):\n",
    "            state = self.env.reset()\n",
    "            episode_reward = 0\n",
    "            for step in range(max_steps):\n",
    "                action = self.get_action([state])\n",
    "                next_state, reward, done, _ = self.env.step(action)\n",
    "                self.replay_buffer.push(state, action, reward, next_state, done)\n",
    "                episode_reward += reward\n",
    "                \n",
    "                # update agent\n",
    "                if len(self.replay_buffer) >= batch_size:\n",
    "                    self.update(batch_size)\n",
    "                \n",
    "                # if game over\n",
    "                if done:\n",
    "                    episode_rewards.append(episode_reward)\n",
    "                    print(\"Episode \" + str(episode) + \": \" + str(episode_reward))\n",
    "                    \n",
    "                    # if sloved\n",
    "                    if episode_rewards[-1] == 500:\n",
    "                        print('sloved!!! you get 500 score!')\n",
    "                        return episode_rewards\n",
    "                    \n",
    "                    break\n",
    "                \n",
    "                state = next_state\n",
    "        \n",
    "        return episode_rewards"
   ]
  },
  {
   "cell_type": "code",
   "execution_count": 5,
   "metadata": {},
   "outputs": [
    {
     "name": "stdout",
     "output_type": "stream",
     "text": [
      "Episode 0: 30.0\n",
      "Episode 1: 15.0\n",
      "Episode 2: 17.0\n",
      "Episode 3: 40.0\n",
      "Episode 4: 124.0\n",
      "Episode 5: 76.0\n",
      "Episode 6: 146.0\n",
      "Episode 7: 346.0\n",
      "Episode 8: 314.0\n",
      "Episode 9: 500.0\n",
      "sloved!!! you get 500 score!\n"
     ]
    }
   ],
   "source": [
    "import gym\n",
    "\n",
    "env = gym.make(\"CartPole-v1\")\n",
    "env.seed(seed)\n",
    "\n",
    "agent = PPOAgent(env)\n",
    "\n",
    "history = agent.train(max_episodes=500)"
   ]
  },
  {
   "cell_type": "code",
   "execution_count": 6,
   "metadata": {},
   "outputs": [
    {
     "data": {
      "image/png": "[encoded data removed]",
      "text/plain": [
       "<Figure size 432x288 with 1 Axes>"
      ]
     },
     "metadata": {
      "needs_background": "light"
     },
     "output_type": "display_data"
    }
   ],
   "source": [
    "import matplotlib.pyplot as plt\n",
    "%matplotlib inline\n",
    "import pandas as pd\n",
    "\n",
    "plt.plot(history)\n",
    "plt.plot(pd.Series(history).rolling(5).mean())\n",
    "plt.show()"
   ]
  },
  {
   "cell_type": "code",
   "execution_count": 7,
   "metadata": {},
   "outputs": [
    {
     "data": {
      "text/plain": [
       "[<matplotlib.lines.Line2D at 0x2f0b1722748>]"
      ]
     },
     "execution_count": 7,
     "metadata": {},
     "output_type": "execute_result"
    },
    {
     "data": {
      "image/png": "[encoded data removed]",
      "text/plain": [
       "<Figure size 432x288 with 1 Axes>"
      ]
     },
     "metadata": {
      "needs_background": "light"
     },
     "output_type": "display_data"
    }
   ],
   "source": [
    "plt.plot(agent.recorder['v_loss'])"
   ]
  },
  {
   "cell_type": "code",
   "execution_count": 8,
   "metadata": {},
   "outputs": [
    {
     "data": {
      "text/plain": [
       "[<matplotlib.lines.Line2D at 0x2f0b17948c8>]"
      ]
     },
     "execution_count": 8,
     "metadata": {},
     "output_type": "execute_result"
    },
    {
     "data": {
      "image/png": "[encoded data removed]",
      "text/plain": [
       "<Figure size 432x288 with 1 Axes>"
      ]
     },
     "metadata": {
      "needs_background": "light"
     },
     "output_type": "display_data"
    }
   ],
   "source": [
    "plt.plot(agent.recorder['a_loss'])"
   ]
  },
  {
   "cell_type": "code",
   "execution_count": 9,
   "metadata": {},
   "outputs": [
    {
     "data": {
      "text/plain": [
       "[<matplotlib.lines.Line2D at 0x2f0b18080c8>]"
      ]
     },
     "execution_count": 9,
     "metadata": {},
     "output_type": "execute_result"
    },
    {
     "data": {
      "image/png": "[encoded data removed]",
      "text/plain": [
       "<Figure size 432x288 with 1 Axes>"
      ]
     },
     "metadata": {
      "needs_background": "light"
     },
     "output_type": "display_data"
    }
   ],
   "source": [
    "plt.plot(agent.recorder['e_loss'])"
   ]
  },
  {
   "cell_type": "code",
   "execution_count": 10,
   "metadata": {},
   "outputs": [
    {
     "data": {
      "text/plain": [
       "[<matplotlib.lines.Line2D at 0x2f0b1868c48>]"
      ]
     },
     "execution_count": 10,
     "metadata": {},
     "output_type": "execute_result"
    },
    {
     "data": {
      "image/png": "[encoded data removed]",
      "text/plain": [
       "<Figure size 432x288 with 1 Axes>"
      ]
     },
     "metadata": {
      "needs_background": "light"
     },
     "output_type": "display_data"
    }
   ],
   "source": [
    "plt.plot(np.array(agent.recorder['ratio']).mean(axis=1))"
   ]
  },
  {
   "cell_type": "code",
   "execution_count": null,
   "metadata": {},
   "outputs": [],
   "source": []
  }
 ],
 "metadata": {
  "kernelspec": {
   "display_name": "Python 3",
   "language": "python",
   "name": "python3"
  },
  "language_info": {
   "codemirror_mode": {
    "name": "ipython",
    "version": 3
   },
   "file_extension": ".py",
   "mimetype": "text/x-python",
   "name": "python",
   "nbconvert_exporter": "python",
   "pygments_lexer": "ipython3",
   "version": "3.7.4"
  }
 },
 "nbformat": 4,
 "nbformat_minor": 2
}
